{
 "cells": [
  {
   "cell_type": "markdown",
   "id": "2e50d837",
   "metadata": {},
   "source": [
    "DYNAMIC ARRAY\n",
    "\n",
    "creating my own list(like python's list)\n",
    "1. create list\n",
    "2. len()\n",
    "3. append\n",
    "4. print\n",
    "5. indexing\n",
    "6. pop\n",
    "7. clear\n",
    "8. find\n",
    "9. insert\n",
    "10. delete\n",
    "11. remove"
   ]
  },
  {
   "cell_type": "code",
   "execution_count": 26,
   "id": "cae0c750",
   "metadata": {},
   "outputs": [],
   "source": [
    "import ctypes"
   ]
  },
  {
   "cell_type": "code",
   "execution_count": null,
   "id": "da9d9d2c",
   "metadata": {},
   "outputs": [],
   "source": [
    "class MeraList:\n",
    "    def __init__(self):\n",
    "        self.size = 1\n",
    "        self.n = 0\n",
    "        #create a C type array with size = self.size\n",
    "        self.A = self.__make_array(self.size)\n",
    "\n",
    "    #LENGTH OF ARRAY\n",
    "    def __len__(self):\n",
    "        return self.n\n",
    "\n",
    "    #INDEXING\n",
    "    def __getitem__(self, index):\n",
    "        if 0 <= index < self.n:\n",
    "            return self.A[index]\n",
    "        else:\n",
    "            return 'IndexError - Index out of range!'\n",
    "\n",
    "    #DELETE\n",
    "    \n",
    "\n",
    "\n",
    "    #APPEND\n",
    "    def append(self, item):\n",
    "        if self.n == self.size:\n",
    "            #resize\n",
    "            self.__resize(self.size*2)\n",
    "\n",
    "        #append\n",
    "        self.A[self.n] = item\n",
    "        self.n = self.n + 1\n",
    "\n",
    "    def __resize(self, new_capacity):\n",
    "        #create a new array with new capacity\n",
    "        B = self.__make_array(new_capacity)\n",
    "        self.size = new_capacity\n",
    "        #copy the content of A to B\n",
    "        for i in range(self.n):\n",
    "            B[i] = self.A[i]\n",
    "        #reassign A\n",
    "        self.A = B\n",
    "\n",
    "    #POP\n",
    "    def pop(self):\n",
    "        if self.n == 0:\n",
    "            return 'Empty List'\n",
    "        print(self.A[self.n - 1])\n",
    "        self.n = self.n - 1\n",
    "\n",
    "    #CLEAR\n",
    "    def clear(self):\n",
    "        self.n = 0\n",
    "        self.size = 1\n",
    "\n",
    "    #FIND\n",
    "    def find(self, item):\n",
    "        for i in range(self.n):\n",
    "            if self.A[i] == item:\n",
    "                return i\n",
    "        return 'ValueError - Not in list!'\n",
    "\n",
    "    #INSERT\n",
    "    def insert(self, pos, item):\n",
    "        #check if the space is vacant or not\n",
    "        if self.n == self.size:\n",
    "            self.__resize(self.size*2)\n",
    "\n",
    "        #shifting\n",
    "        for i in range(self.n, pos, -1):\n",
    "            self.A[i] = self.A[i-1]\n",
    "\n",
    "        #adding in the list\n",
    "        self.A[pos] = item\n",
    "        self.n = self.n + 1\n",
    "\n",
    "\n",
    "    #PRINT\n",
    "    def __str__(self):\n",
    "        #the list looks like [1,2,,30]\n",
    "        result = ''\n",
    "        for i in range(self.n):\n",
    "            result = result + str(self.A[i]) + ','\n",
    "        return '[' + result[:-1] + ']'\n",
    "    \n",
    "    def __make_array(self, capacity):\n",
    "        #creates a c type array(static and referential array) with size capacity\n",
    "        return (capacity*ctypes.py_object)()"
   ]
  },
  {
   "cell_type": "code",
   "execution_count": 127,
   "id": "1ac1b43e",
   "metadata": {},
   "outputs": [],
   "source": [
    "l = MeraList()"
   ]
  },
  {
   "cell_type": "code",
   "execution_count": 128,
   "id": "3b72be87",
   "metadata": {},
   "outputs": [],
   "source": [
    "l.append(\"Hello\")\n",
    "l.append(\"17474\")"
   ]
  },
  {
   "cell_type": "code",
   "execution_count": 129,
   "id": "f21619b6",
   "metadata": {},
   "outputs": [
    {
     "data": {
      "text/plain": [
       "2"
      ]
     },
     "execution_count": 129,
     "metadata": {},
     "output_type": "execute_result"
    }
   ],
   "source": [
    "len(l)"
   ]
  },
  {
   "cell_type": "code",
   "execution_count": 132,
   "id": "6a8dca89",
   "metadata": {},
   "outputs": [],
   "source": [
    "l.insert(2,'world')"
   ]
  },
  {
   "cell_type": "code",
   "execution_count": 133,
   "id": "70cd301f",
   "metadata": {},
   "outputs": [
    {
     "name": "stdout",
     "output_type": "stream",
     "text": [
      "[1111,Hello,world,17474]\n"
     ]
    }
   ],
   "source": [
    "print(l)"
   ]
  },
  {
   "cell_type": "code",
   "execution_count": null,
   "id": "f7b29399",
   "metadata": {},
   "outputs": [],
   "source": []
  }
 ],
 "metadata": {
  "kernelspec": {
   "display_name": "Python 3 (ipykernel)",
   "language": "python",
   "name": "python3"
  },
  "language_info": {
   "codemirror_mode": {
    "name": "ipython",
    "version": 3
   },
   "file_extension": ".py",
   "mimetype": "text/x-python",
   "name": "python",
   "nbconvert_exporter": "python",
   "pygments_lexer": "ipython3",
   "version": "3.13.5"
  }
 },
 "nbformat": 4,
 "nbformat_minor": 5
}
