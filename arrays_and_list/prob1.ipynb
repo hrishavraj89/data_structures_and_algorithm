{
 "cells": [
  {
   "cell_type": "markdown",
   "id": "899f0976",
   "metadata": {},
   "source": [
    "Given an array with some integer type values. Write a python script to sort array values"
   ]
  },
  {
   "cell_type": "code",
   "execution_count": 1,
   "id": "49c6c7ca",
   "metadata": {},
   "outputs": [],
   "source": [
    "import numpy as np"
   ]
  },
  {
   "cell_type": "code",
   "execution_count": 4,
   "id": "58aedf21",
   "metadata": {},
   "outputs": [],
   "source": [
    "a = np.array([34,24,23,52,25,6])"
   ]
  },
  {
   "cell_type": "code",
   "execution_count": 5,
   "id": "fddfbefb",
   "metadata": {},
   "outputs": [
    {
     "data": {
      "text/plain": [
       "array([ 6, 23, 24, 25, 34, 52])"
      ]
     },
     "execution_count": 5,
     "metadata": {},
     "output_type": "execute_result"
    }
   ],
   "source": [
    "np.sort(a)"
   ]
  }
 ],
 "metadata": {
  "kernelspec": {
   "display_name": "Python 3 (ipykernel)",
   "language": "python",
   "name": "python3"
  },
  "language_info": {
   "codemirror_mode": {
    "name": "ipython",
    "version": 3
   },
   "file_extension": ".py",
   "mimetype": "text/x-python",
   "name": "python",
   "nbconvert_exporter": "python",
   "pygments_lexer": "ipython3",
   "version": "3.13.5"
  }
 },
 "nbformat": 4,
 "nbformat_minor": 5
}
