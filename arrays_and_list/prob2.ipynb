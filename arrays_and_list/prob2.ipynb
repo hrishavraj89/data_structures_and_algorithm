{
 "cells": [
  {
   "cell_type": "markdown",
   "id": "730831e0",
   "metadata": {},
   "source": [
    "Given a list of heterogenous elements. Write a python scripts to remove all the non int values from the list"
   ]
  },
  {
   "cell_type": "code",
   "execution_count": 3,
   "id": "5e16c0ea",
   "metadata": {},
   "outputs": [],
   "source": [
    "list = [134, 'Hello', 3.5, 36, 'Good', 82.4]"
   ]
  },
  {
   "cell_type": "code",
   "execution_count": 5,
   "id": "2875f2c3",
   "metadata": {},
   "outputs": [],
   "source": [
    "new_list = []\n",
    "for i in list:\n",
    "    if type(i) == int:\n",
    "        new_list.append(i)"
   ]
  },
  {
   "cell_type": "code",
   "execution_count": 6,
   "id": "3d1267ce",
   "metadata": {},
   "outputs": [
    {
     "data": {
      "text/plain": [
       "[134, 36]"
      ]
     },
     "execution_count": 6,
     "metadata": {},
     "output_type": "execute_result"
    }
   ],
   "source": [
    "new_list"
   ]
  }
 ],
 "metadata": {
  "kernelspec": {
   "display_name": "Python 3 (ipykernel)",
   "language": "python",
   "name": "python3"
  },
  "language_info": {
   "codemirror_mode": {
    "name": "ipython",
    "version": 3
   },
   "file_extension": ".py",
   "mimetype": "text/x-python",
   "name": "python",
   "nbconvert_exporter": "python",
   "pygments_lexer": "ipython3",
   "version": "3.13.5"
  }
 },
 "nbformat": 4,
 "nbformat_minor": 5
}
