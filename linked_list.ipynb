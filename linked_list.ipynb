{
 "cells": [
  {
   "cell_type": "markdown",
   "id": "ed057119",
   "metadata": {},
   "source": [
    "Create a Linked list <br>\n",
    "len <br>\n",
    "insert from head <br>\n",
    "traverse/print <br>\n",
    "insert from tail(append) <br>\n",
    "insert from middle(after) <br>\n",
    "\n",
    "clear <br>\n",
    "delete from head <br>\n",
    "delete from tail(pop) <br>\n",
    "delete by value(remove) <br>\n",
    "\n",
    "search by value(find) <br>\n",
    "delete by index -> del l[0] <br>\n",
    "search by index(indexing) <br>"
   ]
  },
  {
   "cell_type": "code",
   "execution_count": 29,
   "id": "4c1ac70e",
   "metadata": {},
   "outputs": [],
   "source": [
    "class Node:\n",
    "    def __init__(self, value):\n",
    "        self.data = value\n",
    "        self.next = None"
   ]
  },
  {
   "cell_type": "code",
   "execution_count": null,
   "id": "24a08a4c",
   "metadata": {},
   "outputs": [],
   "source": [
    "class LinkedList:\n",
    "    def __init__(self):\n",
    "        #create a empty linked list\n",
    "        self.head = None\n",
    "        self.n = 0\n",
    "\n",
    "    def __len__(self):\n",
    "        return self.n\n",
    "\n",
    "    #inserting from head\n",
    "    def insert_head(self, value):\n",
    "        #new node\n",
    "        new_node = Node(value)\n",
    "        #create connection\n",
    "        new_node.next = self.head\n",
    "        #reassign head\n",
    "        self.head = new_node\n",
    "        #increment n\n",
    "        self.n = self.n + 1\n",
    "\n",
    "    #traverse/print\n",
    "    def __str__(self):\n",
    "        curr = self.head\n",
    "        result = ''\n",
    "        while curr != None:\n",
    "            result = result + str(curr.data) + '->'\n",
    "            curr = curr.next\n",
    "        return result[:-2]\n",
    "        "
   ]
  },
  {
   "cell_type": "code",
   "execution_count": 43,
   "id": "5f33a837",
   "metadata": {},
   "outputs": [],
   "source": [
    "L = LinkedList()"
   ]
  },
  {
   "cell_type": "code",
   "execution_count": 44,
   "id": "617a6114",
   "metadata": {},
   "outputs": [],
   "source": [
    "L.insert_head(1)\n",
    "L.insert_head(2)\n",
    "L.insert_head(3)\n",
    "L.insert_head(4)"
   ]
  },
  {
   "cell_type": "code",
   "execution_count": 45,
   "id": "53053f06",
   "metadata": {},
   "outputs": [
    {
     "name": "stdout",
     "output_type": "stream",
     "text": [
      "4->3->2->1\n"
     ]
    }
   ],
   "source": [
    "print(L)"
   ]
  },
  {
   "cell_type": "code",
   "execution_count": null,
   "id": "b1874689",
   "metadata": {},
   "outputs": [],
   "source": []
  }
 ],
 "metadata": {
  "kernelspec": {
   "display_name": "Python 3 (ipykernel)",
   "language": "python",
   "name": "python3"
  },
  "language_info": {
   "codemirror_mode": {
    "name": "ipython",
    "version": 3
   },
   "file_extension": ".py",
   "mimetype": "text/x-python",
   "name": "python",
   "nbconvert_exporter": "python",
   "pygments_lexer": "ipython3",
   "version": "3.13.5"
  }
 },
 "nbformat": 4,
 "nbformat_minor": 5
}
