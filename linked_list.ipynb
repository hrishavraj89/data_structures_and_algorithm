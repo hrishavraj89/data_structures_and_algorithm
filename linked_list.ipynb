{
 "cells": [
  {
   "cell_type": "markdown",
   "id": "ed057119",
   "metadata": {},
   "source": [
    "Create a Linked list <br>\n",
    "len <br>\n",
    "insert from head <br>\n",
    "traverse/print <br>\n",
    "insert from tail(append) <br>\n",
    "insert from middle(after) <br>\n",
    "\n",
    "clear <br>\n",
    "delete from head <br>\n",
    "delete from tail(pop) <br>\n",
    "delete by value(remove) <br>\n",
    "\n",
    "search by value(find) <br>\n",
    "delete by index -> del l[0] <br>\n",
    "search by index(indexing) <br>"
   ]
  },
  {
   "cell_type": "code",
   "execution_count": 29,
   "id": "4c1ac70e",
   "metadata": {},
   "outputs": [],
   "source": [
    "class Node:\n",
    "    def __init__(self, value):\n",
    "        self.data = value\n",
    "        self.next = None"
   ]
  },
  {
   "cell_type": "code",
   "execution_count": 180,
   "id": "24a08a4c",
   "metadata": {},
   "outputs": [],
   "source": [
    "class LinkedList:\n",
    "    def __init__(self):\n",
    "        #create a empty linked list\n",
    "        self.head = None\n",
    "        self.n = 0\n",
    "\n",
    "    def __len__(self):\n",
    "        return self.n\n",
    "\n",
    "    #inserting from head\n",
    "    def insert_head(self, value):\n",
    "        #new node\n",
    "        new_node = Node(value)\n",
    "        #create connection\n",
    "        new_node.next = self.head\n",
    "        #reassign head\n",
    "        self.head = new_node\n",
    "        #increment n\n",
    "        self.n = self.n + 1\n",
    "\n",
    "    #traverse/print\n",
    "    def __str__(self):\n",
    "        curr = self.head\n",
    "        result = ''\n",
    "        while curr != None:\n",
    "            result = result + str(curr.data) + '->'\n",
    "            curr = curr.next\n",
    "        return result[:-2]\n",
    "\n",
    "    #insert from tail/append\n",
    "    def append(self, value):\n",
    "        new_node = Node(value)\n",
    "        #when there is a empty list\n",
    "        if self.head == None:\n",
    "            self.head = new_node\n",
    "            self.n = self.n + 1\n",
    "            return\n",
    "        #if list is not empty\n",
    "        curr = self.head\n",
    "        while curr.next != None:\n",
    "            curr = curr.next\n",
    "        #you are at the last node now\n",
    "        curr.next = new_node\n",
    "        self.n = self.n + 1\n",
    "\n",
    "    #insert in between(insert after)\n",
    "    def insert_after(self, after, value):\n",
    "        new_node = Node(value)\n",
    "        curr = self.head\n",
    "        while curr != None:\n",
    "            if curr.data == after:\n",
    "                break\n",
    "            curr = curr.next\n",
    "\n",
    "        #Case-1 -> break -> Item found\n",
    "        if curr != None:\n",
    "            #logic\n",
    "            new_node.next = curr.next\n",
    "            curr.next = new_node\n",
    "            self.n = self.n + 1\n",
    "        else:\n",
    "            return 'Item not found'\n",
    "        #Case-2 -> loop initiated -> Item not found -> curr=None\n",
    "\n",
    "    #Clear(clearing all the elements)\n",
    "    def clear(self):\n",
    "        self.head = None\n",
    "        self.n = 0\n",
    "\n",
    "    #delete from head\n",
    "    def delete_head(self):\n",
    "        #if the list is already empty\n",
    "        if self.head == None:\n",
    "            return 'Empty linked list'\n",
    "        self.head = self.head.next\n",
    "        self.n = self.n - 1\n",
    "\n",
    "    #delete from tail(pop)\n",
    "    def pop(self):\n",
    "        #if it is a empty linked list\n",
    "        if self.head == None:\n",
    "            return 'Empty linked list'\n",
    "        curr = self.head\n",
    "        #check if linked list has only one item or not\n",
    "        if curr.next == None:\n",
    "            return self.delete_head()\n",
    "        while curr.next.next != None:\n",
    "            curr = curr.next\n",
    "        #curr -> 2nd last node\n",
    "        curr.next = None\n",
    "        self.n = self.n - 1"
   ]
  },
  {
   "cell_type": "code",
   "execution_count": 181,
   "id": "5f33a837",
   "metadata": {},
   "outputs": [],
   "source": [
    "L = LinkedList()"
   ]
  },
  {
   "cell_type": "code",
   "execution_count": 182,
   "id": "617a6114",
   "metadata": {},
   "outputs": [],
   "source": [
    "L.append(1)\n",
    "L.append(2)\n",
    "L.append(3)\n",
    "L.append(4)"
   ]
  },
  {
   "cell_type": "code",
   "execution_count": 183,
   "id": "b1874689",
   "metadata": {},
   "outputs": [
    {
     "name": "stdout",
     "output_type": "stream",
     "text": [
      "1->2->3->4\n"
     ]
    }
   ],
   "source": [
    "print(L)"
   ]
  },
  {
   "cell_type": "code",
   "execution_count": 192,
   "id": "d8e2ab33",
   "metadata": {},
   "outputs": [
    {
     "data": {
      "text/plain": [
       "'Empty linked list'"
      ]
     },
     "execution_count": 192,
     "metadata": {},
     "output_type": "execute_result"
    }
   ],
   "source": [
    "L.pop()"
   ]
  },
  {
   "cell_type": "code",
   "execution_count": 191,
   "id": "2a3277b9",
   "metadata": {},
   "outputs": [
    {
     "name": "stdout",
     "output_type": "stream",
     "text": [
      "\n"
     ]
    }
   ],
   "source": [
    "print(L)"
   ]
  },
  {
   "cell_type": "code",
   "execution_count": null,
   "id": "e15d0979",
   "metadata": {},
   "outputs": [],
   "source": []
  }
 ],
 "metadata": {
  "kernelspec": {
   "display_name": "Python 3 (ipykernel)",
   "language": "python",
   "name": "python3"
  },
  "language_info": {
   "codemirror_mode": {
    "name": "ipython",
    "version": 3
   },
   "file_extension": ".py",
   "mimetype": "text/x-python",
   "name": "python",
   "nbconvert_exporter": "python",
   "pygments_lexer": "ipython3",
   "version": "3.13.5"
  }
 },
 "nbformat": 4,
 "nbformat_minor": 5
}
